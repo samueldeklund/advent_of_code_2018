{
 "cells": [
  {
   "cell_type": "code",
   "execution_count": 1,
   "metadata": {},
   "outputs": [],
   "source": [
    "from functools import reduce\n",
    "from itertools import accumulate\n",
    "from collections import Counter"
   ]
  },
  {
   "cell_type": "code",
   "execution_count": 2,
   "metadata": {},
   "outputs": [],
   "source": [
    "# Read in input.txt to a list of tuples in format ('op', magnitude)\n",
    "with open(\"input.txt\") as f:\n",
    "    freq_changes = [\n",
    "        (line[0], int(line[1:]))\n",
    "        for line in f.readlines()\n",
    "    ]"
   ]
  },
  {
   "cell_type": "code",
   "execution_count": 3,
   "metadata": {},
   "outputs": [
    {
     "data": {
      "text/plain": [
       "Counter({'-': 479, '+': 525})"
      ]
     },
     "execution_count": 3,
     "metadata": {},
     "output_type": "execute_result"
    }
   ],
   "source": [
    "# Count how many of each op are present; use that to choose the op for the if statement in the step function\n",
    "Counter(\n",
    "    change[0]\n",
    "    for change in freq_changes\n",
    ")"
   ]
  },
  {
   "cell_type": "code",
   "execution_count": 4,
   "metadata": {},
   "outputs": [],
   "source": [
    "# Given the current freq as an int and the change as a tuple ('op', magnitude), return the next freq\n",
    "def step(num, change):\n",
    "    op, magnitude = change\n",
    "    if op is \"+\":\n",
    "        return num + magnitude\n",
    "    else:\n",
    "        return num - magnitude"
   ]
  },
  {
   "cell_type": "code",
   "execution_count": 5,
   "metadata": {},
   "outputs": [
    {
     "data": {
      "text/plain": [
       "484"
      ]
     },
     "execution_count": 5,
     "metadata": {},
     "output_type": "execute_result"
    }
   ],
   "source": [
    "# Part 1\n",
    "reduce(step, freq_changes, 0)"
   ]
  },
  {
   "cell_type": "code",
   "execution_count": 6,
   "metadata": {},
   "outputs": [
    {
     "data": {
      "text/plain": [
       "367"
      ]
     },
     "execution_count": 6,
     "metadata": {},
     "output_type": "execute_result"
    }
   ],
   "source": [
    "# Part 2\n",
    "curr_freq = 0\n",
    "counter = 0\n",
    "encountered_freqs = set()\n",
    "while curr_freq not in encountered_freqs:\n",
    "    encountered_freqs.add(curr_freq)\n",
    "    curr_freq = step(curr_freq, freq_changes[counter % len(freq_changes)])\n",
    "    counter += 1\n",
    "curr_freq"
   ]
  },
  {
   "cell_type": "code",
   "execution_count": null,
   "metadata": {},
   "outputs": [],
   "source": []
  }
 ],
 "metadata": {
  "kernelspec": {
   "display_name": "Python 3",
   "language": "python",
   "name": "python3"
  },
  "language_info": {
   "codemirror_mode": {
    "name": "ipython",
    "version": 3
   },
   "file_extension": ".py",
   "mimetype": "text/x-python",
   "name": "python",
   "nbconvert_exporter": "python",
   "pygments_lexer": "ipython3",
   "version": "3.7.0"
  }
 },
 "nbformat": 4,
 "nbformat_minor": 2
}
