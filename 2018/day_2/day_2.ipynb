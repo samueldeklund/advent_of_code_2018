{
 "cells": [
  {
   "cell_type": "code",
   "execution_count": 9,
   "metadata": {},
   "outputs": [],
   "source": [
    "from collections import Counter"
   ]
  },
  {
   "cell_type": "code",
   "execution_count": 10,
   "metadata": {},
   "outputs": [],
   "source": [
    "# Read input.txt file\n",
    "with open('input.txt') as f:\n",
    "    box_ids = [\n",
    "        line[:-1]\n",
    "        for line in f.readlines()\n",
    "    ]"
   ]
  },
  {
   "cell_type": "code",
   "execution_count": 11,
   "metadata": {},
   "outputs": [],
   "source": [
    "# Compute the total number of box_ids that have letters that appear exactly count times\n",
    "def sum_of_exact_count(count, box_ids):\n",
    "    return sum(\n",
    "        count in Counter(box_id).values()\n",
    "        for box_id in box_ids\n",
    "    )"
   ]
  },
  {
   "cell_type": "code",
   "execution_count": 12,
   "metadata": {},
   "outputs": [
    {
     "data": {
      "text/plain": [
       "7872"
      ]
     },
     "execution_count": 12,
     "metadata": {},
     "output_type": "execute_result"
    }
   ],
   "source": [
    "# Part 1\n",
    "# Compute the checksum by multiplying the counts together\n",
    "sum_of_exact_count(2, box_ids) * sum_of_exact_count(3, box_ids)"
   ]
  },
  {
   "cell_type": "code",
   "execution_count": 13,
   "metadata": {},
   "outputs": [
    {
     "name": "stdout",
     "output_type": "stream",
     "text": [
      "box_id_one: tjxmoewpdkyaihvrndgfluwbzc\n",
      "box_id_two: tjxmoewpdkyaihvrndwfluwbzc\n"
     ]
    }
   ],
   "source": [
    "# Part 2\n",
    "# Find the two box_ids that differ by exactly one letter\n",
    "# Iterate over the entire list of box_ids\n",
    "for i, box_id_one in enumerate(box_ids):\n",
    "    # Iterate over the remaining box_ids for comparison\n",
    "    for box_id_two in box_ids[i + 1:]:\n",
    "        # Check if the two box_ids being compared have exactly exactly one letter different\n",
    "        if Counter(pair[0] is pair[1] for pair in zip(box_id_one, box_id_two))[False] == 1:\n",
    "            answers = (box_id_one, box_id_two)\n",
    "            print(f\"box_id_one: {box_id_one}\\nbox_id_two: {box_id_two}\")\n",
    "            break"
   ]
  },
  {
   "cell_type": "code",
   "execution_count": 14,
   "metadata": {},
   "outputs": [
    {
     "data": {
      "text/plain": [
       "'tjxmoewpdkyaihvrndfluwbzc'"
      ]
     },
     "execution_count": 14,
     "metadata": {},
     "output_type": "execute_result"
    }
   ],
   "source": [
    "# Print out the common letters of the two box_ids\n",
    "\"\".join(\n",
    "    pair[0]\n",
    "    for pair in zip(*answers)\n",
    "    if pair[0] is pair[1]\n",
    ")"
   ]
  },
  {
   "cell_type": "code",
   "execution_count": null,
   "metadata": {},
   "outputs": [],
   "source": []
  }
 ],
 "metadata": {
  "kernelspec": {
   "display_name": "Python 3",
   "language": "python",
   "name": "python3"
  },
  "language_info": {
   "codemirror_mode": {
    "name": "ipython",
    "version": 3
   },
   "file_extension": ".py",
   "mimetype": "text/x-python",
   "name": "python",
   "nbconvert_exporter": "python",
   "pygments_lexer": "ipython3",
   "version": "3.7.0"
  }
 },
 "nbformat": 4,
 "nbformat_minor": 2
}
