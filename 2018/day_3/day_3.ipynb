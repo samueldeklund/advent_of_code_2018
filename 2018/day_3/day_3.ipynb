{
 "cells": [
  {
   "cell_type": "code",
   "execution_count": 1,
   "metadata": {},
   "outputs": [],
   "source": [
    "from collections import namedtuple\n",
    "import numpy as np"
   ]
  },
  {
   "cell_type": "code",
   "execution_count": 2,
   "metadata": {},
   "outputs": [],
   "source": [
    "with open(\"input.txt\") as f:\n",
    "    claim_strings = f.readlines()"
   ]
  },
  {
   "cell_type": "code",
   "execution_count": 3,
   "metadata": {},
   "outputs": [],
   "source": [
    "Claim = namedtuple(\"Claim\", [\"claim_id\", \"left_offset\", \"top_offset\", \"width\", \"height\"])"
   ]
  },
  {
   "cell_type": "code",
   "execution_count": 4,
   "metadata": {},
   "outputs": [],
   "source": [
    "def parse_claim(claim_str):\n",
    "    parts = claim_str.split()\n",
    "    claim_id = int(parts[0][1:])\n",
    "    left_offset, top_offset = map(int, parts[2][:-1].split(','))\n",
    "    width, height = map(int, parts[3].split('x'))\n",
    "    return Claim(\n",
    "        claim_id=claim_id,\n",
    "        left_offset=left_offset,\n",
    "        top_offset=top_offset,\n",
    "        width=width,\n",
    "        height=height,\n",
    "    )"
   ]
  },
  {
   "cell_type": "code",
   "execution_count": 5,
   "metadata": {},
   "outputs": [],
   "source": [
    "claims = [\n",
    "    parse_claim(claim_str)\n",
    "    for claim_str in claim_strings\n",
    "]"
   ]
  },
  {
   "cell_type": "code",
   "execution_count": 6,
   "metadata": {},
   "outputs": [],
   "source": [
    "def prepare_fabric(claims):\n",
    "    fabric = np.zeros((1000,1000))\n",
    "    for claim in claims:\n",
    "        fabric[claim.top_offset:claim.top_offset+claim.height,\n",
    "           claim.left_offset:claim.left_offset+claim.width] += 1\n",
    "    return fabric"
   ]
  },
  {
   "cell_type": "code",
   "execution_count": 7,
   "metadata": {},
   "outputs": [
    {
     "data": {
      "text/plain": [
       "110546"
      ]
     },
     "execution_count": 7,
     "metadata": {},
     "output_type": "execute_result"
    }
   ],
   "source": [
    "# Part 1\n",
    "fabric = prepare_fabric(claims)\n",
    "np.sum(fabric > 1)"
   ]
  },
  {
   "cell_type": "code",
   "execution_count": 8,
   "metadata": {},
   "outputs": [],
   "source": [
    "def compare_claim_to_fabric(claim):\n",
    "    cut_from_fabric = fabric[claim.top_offset:claim.top_offset+claim.height,\n",
    "           claim.left_offset:claim.left_offset+claim.width]\n",
    "    return np.array_equal(\n",
    "        cut_from_fabric,\n",
    "        np.ones_like(cut_from_fabric)\n",
    "    )"
   ]
  },
  {
   "cell_type": "code",
   "execution_count": 9,
   "metadata": {},
   "outputs": [
    {
     "name": "stdout",
     "output_type": "stream",
     "text": [
      "819\n"
     ]
    }
   ],
   "source": [
    "# Part 2\n",
    "for claim in claims:\n",
    "    if compare_claim_to_fabric(claim):\n",
    "        print(claim.claim_id)\n",
    "        break"
   ]
  },
  {
   "cell_type": "code",
   "execution_count": null,
   "metadata": {},
   "outputs": [],
   "source": []
  }
 ],
 "metadata": {
  "kernelspec": {
   "display_name": "Python 3",
   "language": "python",
   "name": "python3"
  },
  "language_info": {
   "codemirror_mode": {
    "name": "ipython",
    "version": 3
   },
   "file_extension": ".py",
   "mimetype": "text/x-python",
   "name": "python",
   "nbconvert_exporter": "python",
   "pygments_lexer": "ipython3",
   "version": "3.7.0"
  }
 },
 "nbformat": 4,
 "nbformat_minor": 2
}
